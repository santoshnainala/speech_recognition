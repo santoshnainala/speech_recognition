{
 "cells": [
  {
   "cell_type": "markdown",
   "id": "111bec0d",
   "metadata": {},
   "source": [
    "# Speech Recognition\n",
    "This speech recognition code which recognizes the audio and converts it into text form\n"
   ]
  },
  {
   "cell_type": "code",
   "execution_count": null,
   "id": "eb360b57",
   "metadata": {},
   "outputs": [
    {
     "name": "stdout",
     "output_type": "stream",
     "text": [
      "this is speech recognition code which is recognised as the audio and converts it into text form\n",
      "\n"
     ]
    }
   ],
   "source": [
    "import speech_recognition as sr\n",
    "import tkinter as tk\n",
    "\n",
    "obj = tk.Tk()\n",
    "obj.title(\"SpeechToText\")\n",
    "obj.geometry('400x400')\n",
    "obj.resizable(0,0)\n",
    "\n",
    "def rec():\n",
    "    r = sr.Recognizer()\n",
    "    #msg.configure(text=\"Say something\")\n",
    "    while True:\n",
    "        with sr.Microphone() as source: \n",
    "            r.adjust_for_ambient_noise(source)\n",
    "            audio = r.listen(source)\n",
    "        try:\n",
    "            txt = r.recognize_google(audio)\n",
    "            msg.configure(text=txt)\n",
    "            print(txt)\n",
    "        except Exception as e:\n",
    "            print(e)\n",
    "            break\n",
    "\n",
    "msg = tk.Label()\n",
    "msg.place(x = 80,y = 100)\n",
    "btn = tk.Button(text=\"Start\",command=rec)\n",
    "btn.place(x = 80,y = 150)\n",
    "obj.mainloop()"
   ]
  },
  {
   "cell_type": "code",
   "execution_count": null,
   "id": "a41b5672",
   "metadata": {},
   "outputs": [],
   "source": []
  },
  {
   "cell_type": "code",
   "execution_count": null,
   "id": "5dc6da7f",
   "metadata": {},
   "outputs": [],
   "source": []
  },
  {
   "cell_type": "code",
   "execution_count": null,
   "id": "835b2061",
   "metadata": {},
   "outputs": [],
   "source": []
  },
  {
   "cell_type": "code",
   "execution_count": null,
   "id": "1f509e05",
   "metadata": {},
   "outputs": [],
   "source": []
  },
  {
   "cell_type": "code",
   "execution_count": null,
   "id": "8cb069f3",
   "metadata": {},
   "outputs": [],
   "source": []
  },
  {
   "cell_type": "code",
   "execution_count": null,
   "id": "fa27880a",
   "metadata": {},
   "outputs": [],
   "source": []
  },
  {
   "cell_type": "code",
   "execution_count": null,
   "id": "f74b41fe",
   "metadata": {},
   "outputs": [],
   "source": []
  }
 ],
 "metadata": {
  "kernelspec": {
   "display_name": "Python 3",
   "language": "python",
   "name": "python3"
  },
  "language_info": {
   "codemirror_mode": {
    "name": "ipython",
    "version": 3
   },
   "file_extension": ".py",
   "mimetype": "text/x-python",
   "name": "python",
   "nbconvert_exporter": "python",
   "pygments_lexer": "ipython3",
   "version": "3.8.8"
  }
 },
 "nbformat": 4,
 "nbformat_minor": 5
}
